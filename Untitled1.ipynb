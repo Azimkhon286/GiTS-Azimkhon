{
  "nbformat": 4,
  "nbformat_minor": 0,
  "metadata": {
    "colab": {
      "name": "Untitled1.ipynb",
      "provenance": [],
      "collapsed_sections": []
    },
    "kernelspec": {
      "name": "python3",
      "display_name": "Python 3"
    }
  },
  "cells": [
    {
      "cell_type": "markdown",
      "metadata": {
        "id": "wx1wKxgTPQw6"
      },
      "source": [
        "Рахматуллоев Азимхон Акбархонович  группа: КИ19-21Б"
      ]
    },
    {
      "cell_type": "code",
      "metadata": {
        "colab": {
          "base_uri": "https://localhost:8080/"
        },
        "id": "MkVKVbdYPf3x",
        "outputId": "db02eb94-39a2-42fe-8ddd-c755582d0456"
      },
      "source": [
        "\r\n",
        "print(\"Привет мир!\")\r\n"
      ],
      "execution_count": 3,
      "outputs": [
        {
          "output_type": "stream",
          "text": [
            "Привет мир!\n"
          ],
          "name": "stdout"
        }
      ]
    },
    {
      "cell_type": "markdown",
      "metadata": {
        "id": "-n78jALLPPov"
      },
      "source": [
        ""
      ]
    }
  ]
}